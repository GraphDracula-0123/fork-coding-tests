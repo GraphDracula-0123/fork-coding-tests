{
 "cells": [
  {
   "cell_type": "markdown",
   "metadata": {
    "pycharm": {
     "name": "#%% md\n"
    }
   },
   "source": [
    "# Exercise 2: Car price prediction with linear regression\n",
    "\n",
    "Your task is to use **linear regression to predict the selling price of a car**.\n",
    "\n",
    "Only use the already imported libraries `numpy`, `matplotlib.pyplot`, `pandas` and `scikit-learn` for the tasks. Do not import any other library."
   ]
  },
  {
   "cell_type": "markdown",
   "source": [
    "## Before you get started\n",
    "\n",
    "Create a virtual environment or conda environment using `environment.yaml` or `pip_dependencies.txt` respectively."
   ],
   "metadata": {
    "collapsed": false,
    "pycharm": {
     "name": "#%% md\n"
    }
   }
  },
  {
   "cell_type": "markdown",
   "source": [
    "## What we expect from you\n",
    "\n",
    "1. Solve the three tasks below.\n",
    "2. Push your solution to a new branch called `solution-linear-regression`. We encourage you to commit and push your changes regularly as it's a good way for you to showcase your thinking process.\n",
    "3. Once you're finished, create a new pull request, but please **do not merge it**."
   ],
   "metadata": {
    "collapsed": false,
    "pycharm": {
     "name": "#%% md\n"
    }
   }
  },
  {
   "cell_type": "markdown",
   "source": [
    "## Time estimate\n",
    "\n",
    "About **1-3 hours** depending on your experience level. But don't worry. There is no countdown. The estimate is for you to plan your time."
   ],
   "metadata": {
    "collapsed": false,
    "pycharm": {
     "name": "#%% md\n"
    }
   }
  },
  {
   "cell_type": "code",
   "execution_count": null,
   "metadata": {
    "pycharm": {
     "name": "#%%\n"
    }
   },
   "outputs": [],
   "source": [
    "# Load required packages and dataset. Do not modify.\n",
    "import matplotlib.pyplot as plt\n",
    "import numpy as np\n",
    "import pandas as pd\n",
    "from sklearn.linear_model import LinearRegression\n",
    "from sklearn.preprocessing import StandardScaler"
   ]
  },
  {
   "cell_type": "markdown",
   "metadata": {
    "pycharm": {
     "name": "#%% md\n"
    }
   },
   "source": [
    "## Task 1: Visualization and Preprocessing\n",
    "\n",
    "1. Read the car data from the CSV file.\n",
    "\n",
    "2. Compute and print the following statistics about the dataset:\n",
    "\n",
    "   * The number of samples\n",
    "   * The percentage of cars for each fuel type.\n",
    "   * The total number of kilometers driven by all cars together.\n",
    "   * The mean and standard deviation of the selling price."
   ]
  },
  {
   "cell_type": "code",
   "execution_count": null,
   "metadata": {
    "pycharm": {
     "name": "#%%\n"
    }
   },
   "outputs": [],
   "source": [
    "# Implement your solution here."
   ]
  },
  {
   "cell_type": "markdown",
   "metadata": {
    "pycharm": {
     "name": "#%% md\n"
    }
   },
   "source": [
    "3. Visualize the year in which a car was bought in a histogram plot."
   ]
  },
  {
   "cell_type": "code",
   "execution_count": null,
   "metadata": {
    "pycharm": {
     "name": "#%%\n"
    }
   },
   "outputs": [],
   "source": [
    "# Implement your solution here."
   ]
  },
  {
   "cell_type": "markdown",
   "metadata": {
    "pycharm": {
     "name": "#%% md\n"
    }
   },
   "source": [
    "4. Clean the data, e.g. removing missing values or outliers. Do everything you find reasonable."
   ]
  },
  {
   "cell_type": "code",
   "execution_count": null,
   "metadata": {
    "pycharm": {
     "name": "#%%\n"
    }
   },
   "outputs": [],
   "source": [
    "# Implement you solution here."
   ]
  },
  {
   "cell_type": "markdown",
   "metadata": {
    "pycharm": {
     "name": "#%% md\n"
    }
   },
   "source": [
    "5. Split the dataset randomly into training and test data. 70% of data should be used for training and 30% should be used for testing."
   ]
  },
  {
   "cell_type": "code",
   "execution_count": null,
   "metadata": {
    "pycharm": {
     "name": "#%%\n"
    }
   },
   "outputs": [],
   "source": [
    "# Implement your solution here"
   ]
  },
  {
   "cell_type": "markdown",
   "metadata": {
    "pycharm": {
     "name": "#%% md\n"
    }
   },
   "source": [
    "## Task 2: Linear regression\n",
    "\n",
    "Implement linear regression to predict the selling price of a car.\n"
   ]
  },
  {
   "cell_type": "code",
   "execution_count": null,
   "metadata": {
    "pycharm": {
     "name": "#%%\n"
    }
   },
   "outputs": [],
   "source": [
    "# Implement your solution here."
   ]
  },
  {
   "cell_type": "markdown",
   "metadata": {
    "pycharm": {
     "name": "#%% md\n"
    }
   },
   "source": [
    "## Task 3: Evaluation\n",
    "\n",
    "1. Implement a function to compute the mean squared error of the predicted and the true values. The function should return a float containing the corresponding score."
   ]
  },
  {
   "cell_type": "code",
   "execution_count": null,
   "metadata": {
    "pycharm": {
     "name": "#%%\n"
    }
   },
   "outputs": [],
   "source": [
    "def mean_squared_error(y_pred, y_true):\n",
    "    # Implement your solution here.\n",
    "    return mean_squared_error\n"
   ]
  },
  {
   "cell_type": "markdown",
   "metadata": {
    "pycharm": {
     "name": "#%% md\n"
    }
   },
   "source": [
    "2. Evaluate if linear regression is suitable for predicting the selling prices. What are the pros and cons of this approach?"
   ]
  },
  {
   "cell_type": "markdown",
   "source": [
    "==> *Write your answers here.* (double click here to edit)"
   ],
   "metadata": {
    "collapsed": false,
    "pycharm": {
     "name": "#%% md\n"
    }
   }
  }
 ],
 "metadata": {
  "kernelspec": {
   "display_name": "Python 3",
   "language": "python",
   "name": "python3"
  },
  "language_info": {
   "codemirror_mode": {
    "name": "ipython",
    "version": 3
   },
   "file_extension": ".py",
   "mimetype": "text/x-python",
   "name": "python",
   "nbconvert_exporter": "python",
   "pygments_lexer": "ipython3",
   "version": "3.7.6"
  }
 },
 "nbformat": 4,
 "nbformat_minor": 1
}