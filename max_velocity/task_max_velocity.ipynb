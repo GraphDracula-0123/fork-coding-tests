{
 "cells": [
  {
   "cell_type": "markdown",
   "metadata": {
    "pycharm": {
     "name": "#%% md\n"
    }
   },
   "source": [
    "# Exercise 1: Maximum vehicle speed\n",
    "\n",
    "Your task is to **calculate the maximum velocity** that a **vehicle** can reach given the data in `vehicle_data.yaml`.\n",
    "\n",
    "Only use the already imported libraries `numpy`, `matplotlib.pyplot` and `yaml` for the tasks. Do not import any other library."
   ]
  },
  {
   "cell_type": "markdown",
   "source": [
    "## Before you get started\n",
    "\n",
    "Create a virtual environment or conda environment using `environment.yaml` or `pip_dependencies.txt` respectively.\n"
   ],
   "metadata": {
    "collapsed": false,
    "pycharm": {
     "name": "#%% md\n"
    }
   }
  },
  {
   "cell_type": "markdown",
   "source": [
    "## What we expect from you\n",
    "\n",
    "1. Solve the three tasks below.\n",
    "2. Push your solution to a new branch called `solution-vmax`. We encourage you to commit and push your changes regularly as it's a good way for you to showcase your thinking process.\n",
    "3. Once you're finished, create a new pull request, but please **do not merge it**.\n"
   ],
   "metadata": {
    "collapsed": false,
    "pycharm": {
     "name": "#%% md\n"
    }
   }
  },
  {
   "cell_type": "markdown",
   "source": [
    "## Time estimate\n",
    "\n",
    "About **0,5-2 hours** depending on your experience level. But don't worry. There is no countdown. The estimate is for you to plan your time.\n"
   ],
   "metadata": {
    "collapsed": false,
    "pycharm": {
     "name": "#%% md\n"
    }
   }
  },
  {
   "cell_type": "code",
   "execution_count": null,
   "metadata": {
    "pycharm": {
     "name": "#%%\n",
     "is_executing": true
    }
   },
   "outputs": [],
   "source": [
    "# Load required packages. Do not modify.\n",
    "import matplotlib.pyplot as plt\n",
    "import numpy as np\n",
    "import yaml "
   ]
  },
  {
   "cell_type": "markdown",
   "metadata": {
    "pycharm": {
     "name": "#%% md\n"
    }
   },
   "source": [
    "## Task 1: Calculate the maximum vehicle velocity\n",
    "\n",
    "Implement a solution to calculate the maximum velocity of a vehicle for the given data. Print the maximum velocity in kilometres per hour.\n",
    "\n",
    "   Following assumptions are made:\n",
    "   * The vehicle drives on level ground at a constant velocity.\n",
    "   * No wheelspin.\n",
    "   * It's windless.\n",
    "   * No loss of power between engine and wheels.\n",
    "   * The maximum velocity is not limited by the gear and the vehicle reaches its peak power at the rotational speed corresponding to its maximum velocity."
   ]
  },
  {
   "cell_type": "code",
   "execution_count": null,
   "metadata": {
    "pycharm": {
     "name": "#%%\n"
    }
   },
   "outputs": [],
   "source": [
    "# Implement your solution here."
   ]
  },
  {
   "cell_type": "markdown",
   "metadata": {
    "pycharm": {
     "name": "#%% md\n"
    }
   },
   "source": [
    "## Task 2: Visualize your results\n",
    "\n",
    "Visualize the driving resistance and traction force over the vehicle speed."
   ]
  },
  {
   "cell_type": "code",
   "execution_count": 14,
   "metadata": {
    "pycharm": {
     "name": "#%%\n"
    }
   },
   "outputs": [],
   "source": [
    "# Implement your solution here."
   ]
  },
  {
   "cell_type": "markdown",
   "metadata": {
    "pycharm": {
     "name": "#%% md\n"
    }
   },
   "source": [
    "## Task 3: Evaluate your results\n",
    "\n",
    "Please answer following questions:\n",
    "\n",
    "1. Motivate your solution for calculating the maximum velocity.\n",
    "\n",
    "2. Critically reflect the calculated maximum velocity.\n",
    "\n",
    "3. How can you check if your results are correct?"
   ]
  },
  {
   "cell_type": "markdown",
   "metadata": {
    "pycharm": {
     "name": "#%% md\n"
    }
   },
   "source": [
    "==> *Write your answers here.* (double click here to edit)"
   ]
  }
 ],
 "metadata": {
  "kernelspec": {
   "display_name": "Python 3",
   "language": "python",
   "name": "python3"
  },
  "language_info": {
   "codemirror_mode": {
    "name": "ipython",
    "version": 3
   },
   "file_extension": ".py",
   "mimetype": "text/x-python",
   "name": "python",
   "nbconvert_exporter": "python",
   "pygments_lexer": "ipython3",
   "version": "3.7.6"
  }
 },
 "nbformat": 4,
 "nbformat_minor": 1
}